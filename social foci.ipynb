{
 "cells": [
  {
   "cell_type": "code",
   "execution_count": null,
   "metadata": {},
   "outputs": [],
   "source": [
    "class join_club(Action):\n",
    "\n",
    "    def mu(self,x):\n",
    "        if x <= -1e2:\n",
    "            return 0.5\n",
    "        if x <= -1e2:\n",
    "            return 0.5\n",
    "\n",
    "        return abs( 1/(1 + np.exp(-x)) - 0.5 )\n",
    "    \n",
    "    # same as loneliness\n",
    "    def act_time(self):\n",
    "        if self.person.hours_per_week() == 0: return 1\n",
    "        \n",
    "        if self.person.hours_per_week() >= self.person.args['extraversion']:\n",
    "            return float('inf')\n",
    "        \n",
    "        step1 = self.mu( 1 - self.person.args['extraversion'] / self.person.hours_per_week() )\n",
    "        step2 = 1/(step1+1e-10)\n",
    "        return step2\n",
    "    \n",
    "    "
   ]
  }
 ],
 "metadata": {
  "kernelspec": {
   "display_name": "Python 3",
   "language": "python",
   "name": "python3"
  },
  "language_info": {
   "codemirror_mode": {
    "name": "ipython",
    "version": 3
   },
   "file_extension": ".py",
   "mimetype": "text/x-python",
   "name": "python",
   "nbconvert_exporter": "python",
   "pygments_lexer": "ipython3",
   "version": "3.7.5"
  }
 },
 "nbformat": 4,
 "nbformat_minor": 4
}
